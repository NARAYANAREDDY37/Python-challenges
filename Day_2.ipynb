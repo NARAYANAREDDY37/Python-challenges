{
 "cells": [
  {
   "cell_type": "code",
   "execution_count": 17,
   "metadata": {},
   "outputs": [
    {
     "data": {
      "text/plain": [
       "'challenge 1: store marks with respect to name\\nchallenge 2: find the average\\nchallenge 3: return the output according to the user input as float with round 2'"
      ]
     },
     "execution_count": 17,
     "metadata": {},
     "output_type": "execute_result"
    }
   ],
   "source": [
    "# <!-- input = 3\n",
    "\n",
    "# john 81,92,80\n",
    "# george 76,80,93\n",
    "# Andrew 88,97,79\n",
    "\n",
    "# output = AVERAGE = 82.33 -->\n",
    "\n",
    "''' challenge 1: store marks with respect to name\n",
    "    challenge 2: find the average\n",
    "    challenge 3: return the output according to the user input as float with round 2'''"
   ]
  },
  {
   "cell_type": "code",
   "execution_count": 21,
   "metadata": {},
   "outputs": [
    {
     "name": "stdout",
     "output_type": "stream",
     "text": [
      "Enter the number:2\n",
      "Enter the name and scores:aj 87 99 77\n",
      "Enter the name and scores:ttt 89 87 96\n",
      "enter the student name:aj\n",
      "average score: 87.67\n"
     ]
    }
   ],
   "source": [
    "n = int(input(\"Enter the number:\"))\n",
    "\n",
    "marksheet= {}\n",
    "for i in range(n):\n",
    "    name,*marks = input(\"Enter the name and scores:\").split()\n",
    "    scores = list(map(float,marks))\n",
    "    marksheet[name]= scores\n",
    "\n",
    "student = input(\"enter the student name:\")\n",
    "scores = marksheet[student]\n",
    "   \n",
    "avg = sum(scores)/len(scores)\n",
    "print(\"average score: {0:.2f}\".format(avg))\n",
    "\n"
   ]
  }
 ],
 "metadata": {
  "kernelspec": {
   "display_name": "Python 3",
   "language": "python",
   "name": "python3"
  },
  "language_info": {
   "codemirror_mode": {
    "name": "ipython",
    "version": 3
   },
   "file_extension": ".py",
   "mimetype": "text/x-python",
   "name": "python",
   "nbconvert_exporter": "python",
   "pygments_lexer": "ipython3",
   "version": "3.7.7"
  },
  "toc": {
   "base_numbering": 1,
   "nav_menu": {},
   "number_sections": true,
   "sideBar": true,
   "skip_h1_title": false,
   "title_cell": "Table of Contents",
   "title_sidebar": "Contents",
   "toc_cell": false,
   "toc_position": {},
   "toc_section_display": true,
   "toc_window_display": false
  }
 },
 "nbformat": 4,
 "nbformat_minor": 4
}
